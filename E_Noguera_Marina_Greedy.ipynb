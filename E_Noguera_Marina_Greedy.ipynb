{
  "cells": [
    {
      "cell_type": "markdown",
      "metadata": {
        "trusted": true
      },
      "source": [
        "<div style=\"padding:30px; color: white; background-color: #0071CD\">\n",
        "<center>\n",
        "<img src=\"img/logoub.jpeg\"></img>\n",
        "<center>\n",
        "<h1>Algorísmica Avançada 2022</h1>\n",
        "<h2>Pràctica 3 - Greedy</h2>\n",
        "</center>\n",
        "</div>"
      ]
    },
    {
      "cell_type": "code",
      "execution_count": 79,
      "metadata": {
        "trusted": true
      },
      "outputs": [
        {
          "data": {
            "text/html": [
              "<style>.container { width:100% !important; }</style>"
            ],
            "text/plain": [
              "<IPython.core.display.HTML object>"
            ]
          },
          "metadata": {},
          "output_type": "display_data"
        }
      ],
      "source": [
        "from IPython.display import display, HTML\n",
        "display(HTML(\"<style>.container { width:100% !important; }</style>\"))"
      ]
    },
    {
      "cell_type": "markdown",
      "metadata": {
        "trusted": true
      },
      "source": [
        "<div class=\"alert alert-info\">\n",
        "<h2>Avís general per a les Pràctiques de Laboratori</h2>\n",
        "\n",
        "És molt important <b>comentar tot el vostre codi</b>. Comentar el codi no només facilita a altres persones que el llegeixin la compressió del que esteu fent, sinó també a vosaltres mateixos durant el procés de disseny i implementació. D'aquesta forma podreu entendre el vostre propi codi encara que faci molt temps que no el consulteu. A més, a l'hora de ser corregits, un codi comentat s'entén molt millor, la qual cosa ajuda a traslladar al professor les idees que teníeu a l'intentar implementar-lo i encara més en el cas que no ho hagueu pogut acabar-ho amb èxit. No cal comentar cada línia, però si el que fa cada part.\n",
        "\n",
        "En segon lloc, és molt important <b>respectar les capçaleres de les funcions i estructura de la funció ```return```</b> que s'indiquin a l'enunciat. Tot i que llegim i corregim els vostres codis en detall, fem servir correctors automàtics per guiar i agilitzar el procés i saber quines solucións funcionen i quines no ja d'entrada. \n",
        "\n",
        "Axí doncs, si es demana que la funció tingui la següent estructura: \n",
        "\n",
        "```python\n",
        "def exercici1(param1, param2):\n",
        "    # implementació de la solució\n",
        "    return resultat \n",
        "```\n",
        "\n",
        "És important que en el notebook existeixi aquesta funció i que no canvieu el nom dels paràmetres ni el tipus de dada retornada.\n",
        "    \n",
        "</div>\n",
        "\n",
        "\n"
      ]
    },
    {
      "cell_type": "markdown",
      "metadata": {
        "trusted": true
      },
      "source": [
        "<div class=\"alert alert-success\">\n",
        "    <h1>Problema 1: Repostatge de vehicles (No òptim) (3p)</h1>\n",
        "    <p>\n",
        "       Hem de fer un trajecte des d’un punt d’origen $S$ fins a un destí $D$. El dipòsit del cotxe permet recórrer un màxim de $K$ quilòmetres. A més, al llarg del trajecte, trobem un conjunt de benzineres $B_1,\\dots,B_n$. Cada benziera té la benzina a un preu diferent que podem notar com $p_{B_i},\\ \\ \\forall i=1,\\dots,n$. Implementeu l'algorisme greedy descrit a continuació per anar des de $S$ fins a $D$.<br><br>\n",
        "       Implementeu un algorisme greedy que, donat $K$, una llista de distàncies entre l'orígen i les benzineres on l'últim element és el destí, i una llista  de preus de benzina, retorni el nombre de cops que haurem de parar a repostar i el preu total del trajecte.<br><br>\n",
        "       Per exemple, si tenim un cotxe que pot fer 10km sense repostar, el destí està a 30km i tenim benzineres als punts: 8, 14, 16, 18, 23, 27 amb preus 0.9, 1.2, 0.6, 1.2, 2.1, 1.7 respectivament, podem executar:<br><br><center><b>refill_prices(10, [8, 14, 16, 18, 23, 27, 30], [0.9, 1.2, 0.6, 1.2, 2.1, 1.7])</center><br> i ens haurà de retornar quatre valors:\n",
        "        <ul>\n",
        "            <li> <b>True/False</b> depenent de si existeix, o no, una solució al problema.\n",
        "            <li> <b>Nombre de benzineres on hem de fer parada.</b> En cas que no existeixi solució, retornarà el nombre de benzineres que hem visitat abans d'exhaurir el carburant.\n",
        "            <li> <b>Llista dels quilòmetres que formen part de la solució.</b>\n",
        "            <li> <b>Cost total del trajecte. </b>\n",
        "        </ul></b><b></b>\n",
        "    </p>    \n",
        "    Seguiu el següent esquema a l'hora de programar la vostra solució:<br>\n",
        "    <ol>\n",
        "        <li> Ens movem fins la benzinera de més baix cost a la que podem arribar.\n",
        "        <li> Omplim el dipòsit al màxim.\n",
        "        <li> Busquem la propera benzinera a la que podem arribar amb el cost més baix.\n",
        "        <li> Tornem al punt 1.\n",
        "    </ol>\n",
        "    \n",
        "</div>"
      ]
    },
    {
      "cell_type": "code",
      "execution_count": 80,
      "metadata": {},
      "outputs": [],
      "source": [
        "def refill_prices(K, stations, prices):\n",
        "    \"\"\"\n",
        "    Repostatge no òptim de vehicles amb costos.\n",
        "    \n",
        "    Params\n",
        "    ======\n",
        "    :K: dipòsit del vehicle\n",
        "    :stations: llista de benzineres. L'últim element és el destí.\n",
        "    :prices: Llista de preus. Té un element menys que 'stations'.\n",
        "    \n",
        "    Returns\n",
        "    =======\n",
        "    :exists: Booleà True/False depenent de si existeix o no solució al problema.\n",
        "    :num_stops: Número de benzineres a les que hem de parar.\n",
        "    :stops: Quilòmetres de les benzineres on fem parada.\n",
        "    :value: Cost del trajecte.\n",
        "    \n",
        "    \"\"\"\n",
        "    \n",
        "    exists = True    \n",
        "    stops = []\n",
        "    value = 0.0\n",
        "\n",
        "    # posicio que estem en cada moment\n",
        "    current_station = 0\n",
        "    diposit = K\n",
        "    # mentre tinguem parades que fer i sigui possible arribar al destí\n",
        "    while len(stations) > 0 and exists:\n",
        "        # totes les parades a les que podem arribar\n",
        "        possible = [(station, price) for station, price in zip(stations, prices) if station-current_station<=K]\n",
        "        if possible:\n",
        "            for station in possible:\n",
        "                # si podem arribar de moment posem True\n",
        "                stop = True\n",
        "                # si més endavant hi ha una gasolinera més barata llavors False i aixi no parem\n",
        "                for next_station in possible:\n",
        "                    if next_station[1]<station[1] and next_station[1]>0:\n",
        "                        stop = False \n",
        "                # nomes si no hi ha cap gasolinera més barata pararem\n",
        "                if stop == True:\n",
        "                    stops.append(station[0])\n",
        "                    value += (station[0]-current_station)*station[1]\n",
        "                    current_station = station[0]\n",
        "                    # actualitzem la llista d'estacions que queden per recorrer amb els preus\n",
        "                    stations = stations[stations.index(station[0])+1:]\n",
        "                    prices = prices[prices.index(station[1])+1:]         \n",
        "        # si no podem arribar a cap gasolinera\n",
        "        else: \n",
        "            exists = False\n",
        "\n",
        "    return exists, len(stops), stops, value"
      ]
    },
    {
      "cell_type": "code",
      "execution_count": null,
      "metadata": {},
      "outputs": [],
      "source": [
        "def refill_prices(K, stations, prices):\n",
        "    \"\"\"\n",
        "    Repostatge no òptim de vehicles amb costos.\n",
        "    \n",
        "    Params\n",
        "    ======\n",
        "    :K: dipòsit del vehicle\n",
        "    :stations: llista de benzineres. L'últim element és el destí.\n",
        "    :prices: Llista de preus. Té un element menys que 'stations'.\n",
        "    \n",
        "    Returns\n",
        "    =======\n",
        "    :exists: Booleà True/False depenent de si existeix o no solució al problema.\n",
        "    :num_stops: Número de benzineres a les que hem de parar.\n",
        "    :stops: Quilòmetres de les benzineres on fem parada.\n",
        "    :value: Cost del trajecte.\n",
        "    \n",
        "    \"\"\"\n",
        "    \n",
        "    exists = True    \n",
        "    stops = []\n",
        "    value = 0.0\n",
        "\n",
        "    # posicio que estem en cada moment\n",
        "    current_station = 0\n",
        "    diposit = K\n",
        "    # mentre tinguem parades que fer i sigui possible arribar al destí\n",
        "    while len(stations) > 0 and exists:\n",
        "        # totes les parades a les que podem arribar\n",
        "        possible = [(station, price) for station, price in zip(stations, prices) if station-current_station<=K]\n",
        "        if possible:\n",
        "            min_station = min(possible, key =lambda x: x[1])\n",
        "            \n",
        "            for station in possible:\n",
        "                # si podem arribar de moment posem True\n",
        "                stop = True\n",
        "                # si més endavant hi ha una gasolinera més barata llavors False i aixi no parem\n",
        "                for next_station in possible:\n",
        "                    if next_station[1]<station[1] and next_station[1]>0:\n",
        "                        stop = False \n",
        "                # nomes si no hi ha cap gasolinera més barata pararem\n",
        "                if stop == True:\n",
        "                    stops.append(station[0])\n",
        "                    value += (station[0]-current_station)*station[1]\n",
        "                    current_station = station[0]\n",
        "                    # actualitzem la llista d'estacions que queden per recorrer amb els preus\n",
        "                    stations = stations[stations.index(station[0])+1:]\n",
        "                    prices = prices[prices.index(station[1])+1:]         \n",
        "        # si no podem arribar a cap gasolinera\n",
        "        else: \n",
        "            exists = False\n",
        "\n",
        "    return exists, len(stops), stops, value"
      ]
    },
    {
      "cell_type": "code",
      "execution_count": 81,
      "metadata": {
        "trusted": true
      },
      "outputs": [
        {
          "name": "stdout",
          "output_type": "stream",
          "text": [
            "(True, 2, [10, 13], 4.9)\n"
          ]
        }
      ],
      "source": [
        "print(refill_prices(10, [10, 11, 13], [0.4, 0.4, 0.3]))"
      ]
    },
    {
      "cell_type": "code",
      "execution_count": 82,
      "metadata": {
        "trusted": true
      },
      "outputs": [
        {
          "name": "stdout",
          "output_type": "stream",
          "text": [
            "(True, 5, [8, 16, 18, 27, 30], 29.7)\n"
          ]
        }
      ],
      "source": [
        "print(refill_prices(10, [8, 14, 16, 18, 23, 27, 30], [0.9, 1.2, 0.6, 1.2, 2.1, 1.7, 0.0]))"
      ]
    },
    {
      "cell_type": "markdown",
      "metadata": {
        "trusted": true
      },
      "source": [
        "<div class=\"alert alert-success\">\n",
        "    <h1>Problema 2: Repostatge de vehicles (Òptim) (2p)</h1>\n",
        "    <p>\n",
        "       Modifiqueu l'algorisme anterior per a que la solució sigui òptima. <br>\n",
        "       En aquest cas, només haureu d'omplir el dipòsit amb els litres necessaris per a arribar a la benzinera més propera amb un cost inferior a la que estem actualment. <br>\n",
        "       Comproveu que la solució que obteniu amb aquest algorisme és inferior a la solució del Problema 1.\n",
        "    </p>    \n",
        "   \n",
        "</div>"
      ]
    },
    {
      "cell_type": "markdown",
      "metadata": {
        "trusted": true
      },
      "source": [
        "Exemple:<br>\n",
        "       Suposem que tenim benzineres als punts 10, 11, 13, el destí està al punt 14 i els preus són 0.5, 0.4, 0.3 respectivament. La capacitat del cotxe és de 10L.<br>\n",
        "       <ol>\n",
        "           <li> Comprovem quines benzineres són assolibles: Només podem arribar a la benzinera del km.10 que té cost 0.5€/L.\n",
        "           <li> Abans de decidir quants litres omplim, mirem a quines benzineres podríem arribar. Podríem arribar al km.11, al km.13 i al km.14 (destinació).\n",
        "           <li> Com que la benzinera del km.11 val 0.4€/L i 0.4<0.5, només omplim amb els litres necessaris per arribar a aquesta benzinera (1L).\n",
        "           <li> Ens movem a aquesta benzinera i repetim el procés.                                                    \n",
        "       </ol>"
      ]
    },
    {
      "cell_type": "code",
      "execution_count": 83,
      "metadata": {},
      "outputs": [],
      "source": [
        "def refill_prices_optim(K, stations, prices):\n",
        "    \"\"\"\n",
        "    Repostatge òptim de vehicles amb costos. \n",
        "    \n",
        "    Params\n",
        "    ======\n",
        "    :K: dipòsit del vehicle\n",
        "    :stations: llista de benzineres. L'últim element és el destí.\n",
        "    :prices: Llista de preus. Té un element menys que 'stations'.\n",
        "    \n",
        "    Returns\n",
        "    =======\n",
        "    :exists: Booleà True/False depenent de si existeix o no solució al problema.\n",
        "    :num_stops: Número de benzineres a les que hem de parar.\n",
        "    :stops: Quilòmetres de les benzineres on fem parada.\n",
        "    :value: Cost del trajecte.\n",
        "    \n",
        "    \"\"\"\n",
        "    \n",
        "    \n",
        "    exists = True    \n",
        "    stops = []\n",
        "    value = 0.0\n",
        "\n",
        "\n",
        "    # posicio que estem en cada moment\n",
        "    current_station = 0\n",
        "    diposit = K\n",
        "\n",
        "    # mentre tinguem parades que fer i sigui possible arribar al destí\n",
        "    while len(stations) > 1 and exists:\n",
        "        # totes les parades a les que podem arribar\n",
        "        possibles = [(station, price) for station, price in zip(stations, prices) if station-current_station<=K]\n",
        "        if possibles:\n",
        "            for station in possibles:\n",
        "                diposit = diposit - station[0] + current_station\n",
        "                # si podem arribar de moment posem True\n",
        "                stop = True\n",
        "                # si més endavant hi ha una gasolinera més barata llavors False i aixi no parem\n",
        "                for next_station in possibles:\n",
        "                    if next_station[1]<station[1] and next_station[1]>0:\n",
        "                        stop = False \n",
        "                \n",
        "                diposit_disponible = K -diposit\n",
        "                next_possibles=[(next_possible_station, price) for next_possible_station, price in zip(stations[stations.index(station[0])+1:], prices[prices.index(station[1])+1:]) if next_possible_station-station[0]<= K]\n",
        "                if next_possibles:\n",
        "                    for next_posible_station in next_possibles:\n",
        "                        if next_posible_station[1] < station[1]:\n",
        "                            diposit_disponible = next_posible_station[0]-station[0]-diposit\n",
        "                else:\n",
        "                    exists = False\n",
        "\n",
        "                # nomes si no hi ha cap gasolinera més barata pararem\n",
        "                if stop == True:\n",
        "                    stops.append(station[0])\n",
        "                    value += diposit_disponible*station[1]\n",
        "                    diposit += diposit_disponible\n",
        "                    # actualitzem la llista d'estacions que queden per recorrer amb els preus\n",
        "                    stations = stations[stations.index(station[0])+1:]\n",
        "                    prices = prices[prices.index(station[1])+1:]       \n",
        "                current_station = station[0]\n",
        "        # si no podem arribar a cap gasolinera\n",
        "        else: \n",
        "            exists = False\n",
        "\n",
        "\n",
        "    return exists, len(stops), stops, value"
      ]
    },
    {
      "cell_type": "code",
      "execution_count": 84,
      "metadata": {},
      "outputs": [
        {
          "name": "stdout",
          "output_type": "stream",
          "text": [
            "(False, 2, [10, 13], 4.2)\n"
          ]
        }
      ],
      "source": [
        "print(refill_prices_optim(10, [10, 11, 13], [0.4, 0.4, 0.3]))"
      ]
    },
    {
      "cell_type": "code",
      "execution_count": 85,
      "metadata": {},
      "outputs": [
        {
          "name": "stdout",
          "output_type": "stream",
          "text": [
            "(False, 5, [8, 16, 18, 27, 30], 17.2)\n"
          ]
        }
      ],
      "source": [
        "print(refill_prices_optim(10, [8, 14, 16, 18, 23, 27, 30], [0.9, 1.2, 0.6, 1.2, 2.1, 1.7, 0.0]))"
      ]
    },
    {
      "cell_type": "markdown",
      "metadata": {
        "trusted": true
      },
      "source": [
        "<div class=\"alert alert-success\">\n",
        "    <h1>Problema 3: Un alfabet estrany (5p)</h1>\n",
        "    <p>\n",
        "        Volem enviar missatges utilitzant el mínim d'espai possible utilitzant una codificació de dos caràcters '.' i '-'. Per fer-ho hem de traduïr cada lletra de l'alfabet català a aquesta representació. <br>\n",
        "        Per exemple, podem assignar que la lletra A correspon a l'string '.', la lletra B a l'string '.-' i la lletra C a l'string '--'. Així, la paraula ABC ens quedaria codificada com '..---'.<br><br>\n",
        "        Per a que la codificació sigui bona i reversible, és a dir, que siguem capaços de desxifrar-la, és important que els strings de codificació que triem no portin a errors.<br>\n",
        "        Per exemple, si codifiquem A='.', B='-.', C='.-' i tenim l'string '.-..-', aquest pot representar tant la paraula ABC com la paraula CAC i, per tant, no és una bona codificació.\n",
        "        Seguiu els següents passos per a implementar la solució:\n",
        "    </p>  \n",
        "    <h2>3.1 Trobar la codificació</h2>\n",
        "    <ol>\n",
        "        <li>Implementeu una funció <code>compute_frequency</code> que calculi la freqüència de cada lletra, és a dir, el nombre de cops que apareix a dins l'string.   \n",
        "        <li>Ara crearem un arbre binari per emmagatzemar els nodes. Utilitza la classe <code>Node</code> seguint les indicacions:\n",
        "        <ol>\n",
        "            <li>Inicialitza una llista <code>nodes_list</code> on cada lletra sigui un node i tingui com a valor, el càlcul de freqüència del primer apartat.\n",
        "            <li>Mentre la llista tingui dos nodes com a mínim, extreu de la llista els dos nodes amb la frequencia més petita i guarda'ls a l'arbre assignant-els-hi el mateix pare. \n",
        "            <li>Assigna el caràcter '.' al node de la dreta i el caràcter '-' al node de l'esquerra.\n",
        "            <li>Guarda el node pare a <code>nodes_list</code> assignant-li com a valor de freqüència la suma dels seus dos fills.\n",
        "            <li>Torna al punt B.\n",
        "        </ol>\n",
        "        <img src=\"img/graph.png\" width='25%'></img><br>\n",
        "        <li>Assigna un codi a cada fulla de l'arbre de la forma següent: sempre que descendeixis a un node de la dreta utilitza el caràcter '.' i al descendir al node de l'esquerra utilitza el caràcter '-'.\n",
        "        <li>Retorna aquesta assignació com a diccionari.\n",
        "    </ol>\n",
        "    <h2>3.2 Codificar i decodificar</h2>\n",
        "    <ol>\n",
        "        <li>Crea una funció <code>encode</code> que utilitzi el diccionari retornat anteriorment per a codificar un text d'entrada\n",
        "        <li>Crea una funció <code>decode</code> que utilitzi el diccionari retornat anteriorment per a decodificar un text d'entrada\n",
        "        <li>Executa la funció <code>alphabet</code> i comprova que el resultat sigui l'esperat.\n",
        "    </ol>\n",
        "    \n",
        "</div>"
      ]
    },
    {
      "cell_type": "markdown",
      "metadata": {
        "trusted": true
      },
      "source": [
        "Exemple d'execució:\n",
        "\n",
        "- Text a codificar: ABABAC\n",
        "- Diccionari de freqüències: {'A': 3, 'B': 2, 'C': 1}\n",
        "- Diccionari de conversió: {'C': '--', 'B': '-.', 'A': '.'}\n",
        "- Codificat: .-..-..--\n",
        "- Decodificat: ABABAC"
      ]
    },
    {
      "cell_type": "code",
      "execution_count": 86,
      "metadata": {
        "trusted": true
      },
      "outputs": [],
      "source": [
        "from collections import defaultdict\n",
        "\n",
        "def compute_frequency(text):\n",
        "    \"\"\"\n",
        "    Params\n",
        "    ======\n",
        "    :text: El text que volem codificar\n",
        "    \n",
        "    Returns\n",
        "    =======\n",
        "    :dct: Un diccionari amb el nombre de cops que apareix cada simbol en el text d'entrada. Per exemple: {'A': 3, 'B': 2, 'C': 1}\n",
        "    \"\"\"\n",
        "    # inicialitzem tot el diccionari a 0\n",
        "    dct = {}\n",
        "    dct = defaultdict(lambda:0, dct)\n",
        " \n",
        "    for character in text:\n",
        "        dct[character] += 1\n",
        "    return dct"
      ]
    },
    {
      "cell_type": "code",
      "execution_count": 87,
      "metadata": {
        "trusted": true
      },
      "outputs": [],
      "source": [
        "class Node:\n",
        "    \"\"\"\n",
        "    Aquesta classe emmagatzema la informació dels nodes de l'arbre binari.\n",
        "    \"\"\"\n",
        "    def __init__(self, node, value, left=None, right=None):\n",
        "        self.node = node    # String que representa el node\n",
        "        self.value = value  # Valor de freqüència\n",
        "        self.left = left    # Node de l'esquerra\n",
        "        self.right = right  # Node de la dreta\n",
        "        self.code = ''      # Codificació del node\n",
        "\n",
        "    def set_code(self, code):\n",
        "        self.code = code\n",
        "\n",
        "    def __repr__(self):\n",
        "        return f\"Node({self.node},{self.value},{self.code},left: {self.left},right: {self.right})\""
      ]
    },
    {
      "cell_type": "markdown",
      "metadata": {},
      "source": [
        "<li>Ara crearem un arbre binari per emmagatzemar els nodes. Utilitza la classe <code>Node</code> seguint les indicacions:\n",
        "        <ol>\n",
        "            <li>Inicialitza una llista <code>nodes_list</code> on cada lletra sigui un node i tingui com a valor, el càlcul de freqüència del primer apartat.\n",
        "            <li>Mentre la llista tingui dos nodes com a mínim, extreu de la llista els dos nodes amb la frequencia més petita i guarda'ls a l'arbre assignant-els-hi el mateix pare. \n",
        "            <li>Assigna el caràcter '.' al node de la dreta i el caràcter '-' al node de l'esquerra.\n",
        "            <li>Guarda el node pare a <code>nodes_list</code> assignant-li com a valor de freqüència la suma dels seus dos fills.\n",
        "            <li>Torna al punt B.\n",
        "          <li>Torna al punt B.\n",
        "        </ol>\n",
        "        <img src=\"img/graph.png\" width='25%'></img><br>\n",
        "        <li>Assigna un codi a cada fulla de l'arbre de la forma següent: sempre que descendeixis a un node de la dreta utilitza el caràcter '.' i al descendir al node de l'esquerra utilitza el caràcter '-'.\n",
        "        <li>Retorna aquesta assignació com a diccionari.\n",
        "    </ol>            "
      ]
    },
    {
      "cell_type": "code",
      "execution_count": 88,
      "metadata": {
        "trusted": true
      },
      "outputs": [],
      "source": [
        "def assign_codes(text, counts):   \n",
        "    \"\"\"\n",
        "    Aquesta funció construeix el diccionari de conversió de lletres a símbols '.' i '-'.\n",
        "    \n",
        "    Params\n",
        "    ======\n",
        "    :text: El text que volem convertir\n",
        "    :counts: El diccionari de freqüències que ens retorna la funció compute_frequency\n",
        "    \n",
        "    Returns\n",
        "    =======\n",
        "    :codes: El diccionari de conversió. Per exemple: {'C': '--', 'B': '-.', 'A': '.'}\n",
        "    \"\"\"\n",
        "    nodes_list = []\n",
        "\n",
        "    # omplim la llista\n",
        "    for character in counts.keys():\n",
        "        nodes_list.append(Node(character, counts[character]))\n",
        "    pre_lenght = len(nodes_list)\n",
        "\n",
        "    \n",
        "    while len(nodes_list)>1:\n",
        "        # extraiem i borrem els dos nodes amb frequencia mes petita\n",
        "        nodes_list = sorted(nodes_list, key=lambda x: (-len(x.node), x.value))\n",
        "        first_node = nodes_list.pop(0)\n",
        "        first_node.code += '-'\n",
        "        second_node = nodes_list.pop(0)\n",
        "        second_node.code += '.'\n",
        "\n",
        "        # afegim el node pare dels dos anteriors  \n",
        "        nodes_list.append(Node(first_node.node+second_node.node, first_node.value+second_node.value, first_node, second_node))\n",
        "  \n",
        "    while len(nodes_list) != pre_lenght:\n",
        "        if nodes_list[0].left and nodes_list[0].right:\n",
        "            node = nodes_list.pop(0)\n",
        "\n",
        "            left_node = node.left\n",
        "            left_node.set_code(left_node.code + node.code)\n",
        "            nodes_list.append(left_node)\n",
        "\n",
        "            right_node = node.right\n",
        "            right_node.set_code(right_node.code + node.code)\n",
        "            nodes_list.append(right_node)\n",
        "\n",
        "        else:\n",
        "            nodes_list.append(nodes_list[0])\n",
        "            del nodes_list[0]\n",
        "\n",
        "    codes = dict((node.node, node.code[::-1]) for node in nodes_list)\n",
        "    return codes"
      ]
    },
    {
      "cell_type": "code",
      "execution_count": 89,
      "metadata": {},
      "outputs": [
        {
          "data": {
            "text/plain": [
              "{'H': '--.', 'C': '-.', 'A': '.', 'U': '----', 'R': '---.'}"
            ]
          },
          "execution_count": 89,
          "metadata": {},
          "output_type": "execute_result"
        }
      ],
      "source": [
        "assign_codes(\"CUCARACHA\", compute_frequency(\"CUCARACHA\"))"
      ]
    },
    {
      "cell_type": "code",
      "execution_count": 90,
      "metadata": {
        "trusted": true
      },
      "outputs": [],
      "source": [
        "def encode(text, diccionari):\n",
        "    \"\"\"\n",
        "    Donat un text a codificar i un diccionari de conversió, codifica el text.\n",
        "    \n",
        "    Params\n",
        "    ======\n",
        "    :text: El text que volem codificar\n",
        "    :diccionari: El diccionari de conversió que farem servir\n",
        "    \n",
        "    Returns\n",
        "    =======\n",
        "    :code: Una representació del text usant només els caràcters '.' i '-'\n",
        "    \"\"\"\n",
        "    encoded = ''\n",
        "    for character in text:\n",
        "        encoded += diccionari[character]\n",
        "\n",
        "    return encoded"
      ]
    },
    {
      "cell_type": "code",
      "execution_count": 91,
      "metadata": {
        "trusted": true
      },
      "outputs": [],
      "source": [
        "def decode(text, diccionari):\n",
        "    \"\"\"\n",
        "    Donat un text a decodificar i un diccionari de conversió, decodifica el text.\n",
        "    \n",
        "    Params\n",
        "    ======\n",
        "    :text: El text que volem decodificar (caràcters '.' i '-')\n",
        "    :diccionari: El diccionari de conversió que hem fet servir per codificar\n",
        "    \n",
        "    Returns\n",
        "    =======\n",
        "    :code: El text resultant de la decodificació.\n",
        "    \"\"\"\n",
        "    code = ''\n",
        "    invers_dct = dict((item[1],item[0]) for item in diccionari.items())\n",
        "    current_characters=''\n",
        "    for character in text:\n",
        "        current_characters += character \n",
        "        if current_characters in invers_dct.keys():\n",
        "            code += invers_dct[current_characters] \n",
        "            current_characters = ''\n",
        " \n",
        "    return code"
      ]
    },
    {
      "cell_type": "code",
      "execution_count": 92,
      "metadata": {
        "trusted": true
      },
      "outputs": [],
      "source": [
        "def alphabet(text):\n",
        "    \"\"\"\n",
        "    Funció per comprovar que el codi s'executa correctament. No modifiqueu aquesta funció.\n",
        "    \n",
        "    Params\n",
        "    ======\n",
        "    :text: Missatge que volem fer servir per provar les funcions.\n",
        "    \"\"\"\n",
        "    \n",
        "    print(\"Text a codificar:\", text)\n",
        "    \n",
        "    counts = compute_frequency(text)\n",
        "    print(\"Diccionari de freqüències:\", counts)\n",
        "    \n",
        "    codes = assign_codes(text, counts)\n",
        "    print(\"Diccionari de conversió:\", codes)\n",
        "    \n",
        "    codi = encode(text, codes)\n",
        "    print(\"Codificat:\", codi)\n",
        "    print(\"Decodificat:\", decode(codi, codes))"
      ]
    },
    {
      "cell_type": "code",
      "execution_count": 93,
      "metadata": {
        "trusted": true
      },
      "outputs": [],
      "source": [
        "def alphabet(text):\n",
        "    print(\"Text a codificar:\", text)\n",
        "    counts = compute_frequency(text)\n",
        "    print(\"Diccionari de freqüències:\", counts)\n",
        "    codes = assign_codes(text, counts)\n",
        "    print(\"Diccionari de conversió:\", codes)\n",
        "    codi = encode(text, codes)\n",
        "    print(\"Codificat:\", codi)\n",
        "    print(\"Decodificat:\", decode(codi, codes))"
      ]
    },
    {
      "cell_type": "code",
      "execution_count": 94,
      "metadata": {
        "trusted": true
      },
      "outputs": [
        {
          "name": "stdout",
          "output_type": "stream",
          "text": [
            "Text a codificar: ABABAC\n",
            "Diccionari de freqüències: defaultdict(<function compute_frequency.<locals>.<lambda> at 0x115e3b3a0>, {'A': 3, 'B': 2, 'C': 1})\n",
            "Diccionari de conversió: {'A': '.', 'C': '--', 'B': '-.'}\n",
            "Codificat: .-..-..--\n",
            "Decodificat: ABABAC\n"
          ]
        }
      ],
      "source": [
        "# text_a_codificar = \"ABBCACCCDBAAABCAACCCB\"\n",
        "text_a_codificar = \"ABABAC\"\n",
        "alphabet(text_a_codificar)"
      ]
    },
    {
      "cell_type": "markdown",
      "metadata": {
        "trusted": true
      },
      "source": [
        "<div class=\"alert alert-info\">\n",
        "<center>\n",
        "  <h1>Entrega</h1>\n",
        "</center>\n",
        "\n",
        "<p>\n",
        "L'entrega es farà a través del campus virtual. Teniu fins el dia <b>6 de Novembre a les 23:59</b> per entregar la pràctica. A la tasca que obrirem al campus, <b>només heu d'entregar aquest fitxer .ipynb</b>. El notebook ha de tenir com a nom:\n",
        "</p>\n",
        "<p>\n",
        "    <code>Grup_Cognom_Nom_Greedy.ipynb</code>\n",
        "</p>\n",
        "    <br>\n",
        "On 'Grup' és una sola lletra que identifica el grup on esteu matriculats. Els grups disponibles són: A, B, C, D, E, F.\n",
        "\n",
        "És imprescindible que respecteu el format de les funcions i que el vostre codi estigui degudament comentat.<br><br>\n",
        "</div>"
      ]
    }
  ],
  "metadata": {
    "kernelspec": {
      "display_name": "Python 3.8.14 64-bit",
      "language": "python",
      "name": "python3"
    },
    "language_info": {
      "codemirror_mode": {
        "name": "ipython",
        "version": 3
      },
      "file_extension": ".py",
      "mimetype": "text/x-python",
      "name": "python",
      "nbconvert_exporter": "python",
      "pygments_lexer": "ipython3",
      "version": "3.8.14"
    },
    "vscode": {
      "interpreter": {
        "hash": "0adcc2737ebf6a4a119f135174df96668767fca1ef1112612db5ecadf2b6d608"
      }
    }
  },
  "nbformat": 4,
  "nbformat_minor": 4
}
